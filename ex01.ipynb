{
 "cells": [
  {
   "cell_type": "code",
   "execution_count": 1,
   "metadata": {},
   "outputs": [],
   "source": [
    "import numpy as np\n",
    "import matplotlib.pyplot as plt\n",
    "\n",
    "from sqlplus import *"
   ]
  },
  {
   "cell_type": "code",
   "execution_count": 6,
   "metadata": {},
   "outputs": [
    {
     "data": {
      "text/plain": [
       "array([[ 1.,  0.,  0.,  0.,  0.],\n",
       "       [ 0.,  1.,  0.,  0.,  0.],\n",
       "       [ 0.,  0.,  1.,  0.,  0.],\n",
       "       [ 0.,  0.,  0.,  1.,  0.],\n",
       "       [ 0.,  0.,  0.,  0.,  1.]])"
      ]
     },
     "execution_count": 6,
     "metadata": {},
     "output_type": "execute_result"
    }
   ],
   "source": [
    "np.identity(5)"
   ]
  },
  {
   "cell_type": "code",
   "execution_count": 8,
   "metadata": {},
   "outputs": [],
   "source": [
    "# prepend_header('ex1data1.csv', 'population, profit')"
   ]
  },
  {
   "cell_type": "code",
   "execution_count": 3,
   "metadata": {},
   "outputs": [],
   "source": [
    "with dbopen('db') as c:\n",
    "    c.write(read_csv('ex1data1.csv'), 'ex1data1')"
   ]
  },
  {
   "cell_type": "code",
   "execution_count": 4,
   "metadata": {},
   "outputs": [
    {
     "data": {
      "image/png": "[encoded data removed]",
      "text/plain": [
       "<matplotlib.figure.Figure at 0x24c54f4cc50>"
      ]
     },
     "metadata": {},
     "output_type": "display_data"
    }
   ],
   "source": [
    "# plot\n",
    "with dbopen('db') as c:\n",
    "    data = c.rows('ex1data1')\n",
    "    plt.plot(data['population'], data['profit'], 'rx')\n",
    "    plt.xlabel('population')\n",
    "    plt.ylabel('profit')\n",
    "    plt.show()"
   ]
  },
  {
   "cell_type": "code",
   "execution_count": 45,
   "metadata": {},
   "outputs": [
    {
     "name": "stdout",
     "output_type": "stream",
     "text": [
      "[-3.6369333  1.1670296]\n"
     ]
    }
   ],
   "source": [
    "def gradient_descent(X, y, theta, alpha=0.01, num_iter=1500):\n",
    "    m = np.size(y)\n",
    "    for _ in range(num_iter):\n",
    "         theta = theta - (alpha / m) * X.T.dot(X.dot(theta) - y) \n",
    "    return theta\n",
    "\n",
    "with dbopen('db') as c:\n",
    "    data = c.rows('ex1data1')\n",
    "    X = []\n",
    "    for r in data:\n",
    "        X.append([1, r.population])\n",
    "    X = np.array(X)\n",
    "    y = np.array(data['profit'])\n",
    "    theta = np.array([0, 1]) \n",
    "    print(gradient_descent(X, y, theta))"
   ]
  },
  {
   "cell_type": "code",
   "execution_count": 53,
   "metadata": {},
   "outputs": [
    {
     "data": {
      "image/png": "[encoded data removed]",
      "text/plain": [
       "<matplotlib.figure.Figure at 0x21eb340a128>"
      ]
     },
     "metadata": {},
     "output_type": "display_data"
    }
   ],
   "source": [
    "%matplotlib inline\n",
    "# plot\n",
    "with dbopen('db') as c:\n",
    "    data = c.rows('ex1data1')\n",
    "    x = data['population']\n",
    "    y = data['profit']\n",
    "    plt.plot(x, y, 'rx')\n",
    "    \n",
    "    theta = np.array([-3.637, 1.167])\n",
    "    left, right = min(x), max(x)\n",
    "    plt.plot([left, right], [theta.dot([1, left]), theta.dot([1, right])], 'b-')\n",
    "    \n",
    "    plt.xlabel('population')\n",
    "    plt.ylabel('profit')\n",
    "    plt.show()"
   ]
  },
  {
   "cell_type": "code",
   "execution_count": null,
   "metadata": {},
   "outputs": [],
   "source": []
  }
 ],
 "metadata": {
  "kernelspec": {
   "display_name": "Python 3",
   "language": "python",
   "name": "python3"
  },
  "language_info": {
   "codemirror_mode": {
    "name": "ipython",
    "version": 3
   },
   "file_extension": ".py",
   "mimetype": "text/x-python",
   "name": "python",
   "nbconvert_exporter": "python",
   "pygments_lexer": "ipython3",
   "version": "3.6.3"
  }
 },
 "nbformat": 4,
 "nbformat_minor": 2
}
