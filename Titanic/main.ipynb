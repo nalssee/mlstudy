{
 "cells": [
  {
   "cell_type": "code",
   "execution_count": 21,
   "metadata": {},
   "outputs": [],
   "source": [
    "from sqlplus import *\n",
    "import matplotlib.pyplot as plt"
   ]
  },
  {
   "cell_type": "code",
   "execution_count": 43,
   "metadata": {},
   "outputs": [
    {
     "name": "stdout",
     "output_type": "stream",
     "text": [
      "Table train exists.\n",
      "Table test exists.\n"
     ]
    }
   ],
   "source": [
    "with dbopen('db') as c:\n",
    "    c.load('train.csv')\n",
    "    c.load('test.csv')\n",
    "    train = c.df('train')\n",
    "    test = c.df('test')\n",
    "    "
   ]
  },
  {
   "cell_type": "code",
   "execution_count": 28,
   "metadata": {},
   "outputs": [
    {
     "name": "stdout",
     "output_type": "stream",
     "text": [
      "       passengerid    survived      pclass       sibsp       parch        fare\n",
      "count   891.000000  891.000000  891.000000  891.000000  891.000000  891.000000\n",
      "mean    446.000000    0.383838    2.308642    0.523008    0.381594   32.204208\n",
      "std     257.353842    0.486592    0.836071    1.102743    0.806057   49.693429\n",
      "min       1.000000    0.000000    1.000000    0.000000    0.000000    0.000000\n",
      "25%     223.500000    0.000000    2.000000    0.000000    0.000000    7.910400\n",
      "50%     446.000000    0.000000    3.000000    0.000000    0.000000   14.454200\n",
      "75%     668.500000    1.000000    3.000000    1.000000    0.000000   31.000000\n",
      "max     891.000000    1.000000    3.000000    8.000000    6.000000  512.329200\n",
      "                                    name   sex  age    ticket cabin embarked\n",
      "count                                891   891  891       891   891      891\n",
      "unique                               891     2   89       681   148        4\n",
      "top     Madigan, Miss. Margaret \"Maggie\"  male       CA. 2343              S\n",
      "freq                                   1   577  177         7   687      644\n",
      "         sex\n",
      "count    891\n",
      "unique     2\n",
      "top     male\n",
      "freq     577\n",
      "NO. survived: 342\n",
      "NO. not survived: 549\n",
      "Male: 577\n",
      "Female: 314\n"
     ]
    }
   ],
   "source": [
    "with dbopen('db') as c:\n",
    "    print(c.df('train').describe())\n",
    "    print(c.df('train', cols='name, sex, age, ticket, cabin, embarked').describe())\n",
    "    print(c.df('train', cols='sex').describe())\n",
    "        \n",
    "    print('NO. survived', end=': ')\n",
    "    print(len(c.rows('train', where='survived=1')))\n",
    "    print('NO. not survived', end=\": \")\n",
    "    print(len(c.rows('train', where='survived=0')))\n",
    "    \n",
    "    print(\"Male: \", end=\"\")\n",
    "    print(len(c.rows('train', where=\"sex='male'\")))\n",
    "    print(\"Female: \", end=\"\")\n",
    "    print(len(c.rows('train', where=\"sex='female'\")))\n",
    "    "
   ]
  },
  {
   "cell_type": "code",
   "execution_count": null,
   "metadata": {},
   "outputs": [],
   "source": [
    "4"
   ]
  },
  {
   "cell_type": "code",
   "execution_count": 39,
   "metadata": {},
   "outputs": [
    {
     "name": "stdout",
     "output_type": "stream",
     "text": [
      "surv rate, male:  0.18890814558058924\n",
      "surv rate, female:  0.3471337579617834\n"
     ]
    },
    {
     "data": {
      "image/png": "[encoded data removed]",
      "text/plain": [
       "<matplotlib.figure.Figure at 0x1642fe136a0>"
      ]
     },
     "metadata": {},
     "output_type": "display_data"
    },
    {
     "data": {
      "image/png": "[encoded data removed]",
      "text/plain": [
       "<matplotlib.figure.Figure at 0x1642fb367f0>"
      ]
     },
     "metadata": {},
     "output_type": "display_data"
    }
   ],
   "source": [
    "with dbopen('db') as c:\n",
    "    c.df('train', where=\"isnum(age)\").plot(kind=\"scatter\", x=\"age\", y=\"survived\")\n",
    "    c.df('train').plot(kind=\"scatter\", x=\"fare\", y=\"survived\")\n",
    "    # 성별 생존률\n",
    "    male = c.rows('train', where='sex=\"male\"')\n",
    "    female = c.rows('train', where='sex=\"female\"')\n",
    "    print('surv rate, male: ', len(male.where('survived=1')) / len(male))\n",
    "    print('surv rate, female: ', len(male.where('survived=1')) / len(female))\n",
    "    plt.show()"
   ]
  },
  {
   "cell_type": "code",
   "execution_count": 40,
   "metadata": {},
   "outputs": [
    {
     "name": "stdout",
     "output_type": "stream",
     "text": [
      "             passengerid  survived    pclass     sibsp     parch      fare\n",
      "passengerid     1.000000 -0.005007 -0.035144 -0.057527 -0.001652  0.012658\n",
      "survived       -0.005007  1.000000 -0.338481 -0.035322  0.081629  0.257307\n",
      "pclass         -0.035144 -0.338481  1.000000  0.083081  0.018443 -0.549500\n",
      "sibsp          -0.057527 -0.035322  0.083081  1.000000  0.414838  0.159651\n",
      "parch          -0.001652  0.081629  0.018443  0.414838  1.000000  0.216225\n",
      "fare            0.012658  0.257307 -0.549500  0.159651  0.216225  1.000000\n"
     ]
    }
   ],
   "source": [
    "with dbopen('db') as c:\n",
    "    print(c.df('train').corr())"
   ]
  },
  {
   "cell_type": "code",
   "execution_count": 91,
   "metadata": {},
   "outputs": [
    {
     "name": "stdout",
     "output_type": "stream",
     "text": [
      "               age     parch  survived\n",
      "age       1.000000 -0.189119 -0.077221\n",
      "parch    -0.189119  1.000000  0.093317\n",
      "survived -0.077221  0.093317  1.000000\n"
     ]
    }
   ],
   "source": [
    "with dbopen('db') as c:\n",
    "    print(c.df('train', cols=\"age,parch, survived\", where=\"isnum(age)\").corr())"
   ]
  },
  {
   "cell_type": "code",
   "execution_count": 118,
   "metadata": {
    "scrolled": true
   },
   "outputs": [
    {
     "name": "stdout",
     "output_type": "stream",
     "text": [
      "[ 0.81564246  0.81005587  0.80337079  0.79775281  0.81355932]\n"
     ]
    }
   ],
   "source": [
    "from sklearn.linear_model import SGDClassifier, LogisticRegression\n",
    "from sklearn.svm import SVC\n",
    "from sklearn.model_selection import cross_val_score\n",
    "import statistics as st\n",
    "\n",
    "\n",
    "with dbopen('db') as c:\n",
    "    def minmax(val, seq):\n",
    "        a, b = min(seq), max(seq)\n",
    "        return (val - a) / (b - a)\n",
    "    \n",
    "    def prep(r, rs):\n",
    "        r.sex = 1 if r.sex == 'male' else 0\n",
    "        \n",
    "        # age to median\n",
    "        rs1 = rs.where(lambda r: r.age) \n",
    "        age_mid = st.median(rs1['age'])\n",
    "        r.age = r.age or age_mid \n",
    "        # and min max scale\n",
    "        \n",
    "        rs2 = rs.where(lambda r: r.fare)\n",
    "        r.age = minmax(r.age, rs1['age'])\n",
    "        \n",
    "        fare_mid = st.median(rs2['fare'])\n",
    "        r.fare = r.fare or fare_mid\n",
    "        r.fare = minmax(r.fare, rs2['fare'])\n",
    "        \n",
    "        r.s = 1 if r.embarked.lower() == 's' else 0\n",
    "        r.c1 = 1 if r.embarked.lower() == 'c' else 0\n",
    "        r.q = 1 if r.embarked.lower() == 'q' else 0\n",
    "        \n",
    "        r.a = 1 if r.cabin.startswith('A') else 0\n",
    "        r.b = 1 if r.cabin.startswith('B') else 0\n",
    "        r.c = 1 if r.cabin.startswith('C') else 0\n",
    "        r.d = 1 if r.cabin.startswith('D') else 0\n",
    "        r.e = 1 if r.cabin.startswith('E') else 0\n",
    "        r.f = 1 if r.cabin.startswith('F') else 0\n",
    "        r.g = 1 if r.cabin.startswith('G') else 0\n",
    "        \n",
    "        return r\n",
    "    \n",
    "    c.drop('train1')\n",
    "    train = c.rows('train')\n",
    "    for r in c.fetch('train'):\n",
    "        c.insert(prep(r, train), 'train1')\n",
    "        \n",
    "    X = c.df('train1', cols='sex, age, fare, pclass, sibsp, parch, s, c1, q, a, b, c, d, e, f, g'    )\n",
    "    y = c.df('train1', cols='survived')\n",
    "    \n",
    "    # clf = SGDClassifier()\n",
    "    clf = SVC()\n",
    "    # clf = LogisticRegression()\n",
    "    \n",
    "    clf.fit(X, y)\n",
    "    print(cross_val_score(clf, X, y, cv=5, scoring=\"accuracy\"))\n",
    "    \n",
    "    c.drop('test1')\n",
    "    test = c.rows('test')\n",
    "    for r in c.fetch('test'):\n",
    "        c.insert(prep(r, test), 'test1')\n",
    "    X_test = c.df('test1', cols='sex, age, fare, pclass, sibsp, parch, s, c1, q, a, b, c, d, e, f, g')\n",
    "    \n",
    "    \n",
    "        \n",
    "    result = []\n",
    "    for i, x in enumerate(clf.predict(X_test), 892):\n",
    "        r = Row()\n",
    "        r.passengerid = i\n",
    "        r.survived = x\n",
    "        result.append(r)\n",
    "    Rows(result).df().to_csv('result.csv')\n",
    "        \n",
    "        "
   ]
  },
  {
   "cell_type": "code",
   "execution_count": 103,
   "metadata": {},
   "outputs": [
    {
     "data": {
      "text/plain": [
       "array([0, 1, 1, 1, 0, 0, 0, 0, 1, 1, 1, 1, 0, 0, 1, 1, 0, 0, 1, 1, 0, 0, 1,\n",
       "       0, 0, 0, 0, 0, 1, 0, 0, 1, 1, 0, 0, 0, 0, 0, 1, 1, 1, 1, 0, 1, 1, 0,\n",
       "       0, 1, 0, 1, 0, 0, 1, 1, 0, 0, 1, 0, 1, 0, 0, 1, 0, 0, 0, 0, 1, 0, 0,\n",
       "       0, 0, 0, 0, 0, 0, 0, 0, 0, 0, 1, 0, 0, 1, 0, 1, 0, 0, 0, 1, 0, 0, 0,\n",
       "       0, 0, 0, 0, 0, 0, 1, 0, 1, 0, 0, 0, 0, 0, 1, 0, 0, 1, 0, 1, 0, 1, 1,\n",
       "       0, 0, 0, 0, 0, 0, 0, 0, 1, 0, 0, 0, 0, 1, 0, 0, 0, 1, 1, 0, 0, 1, 0,\n",
       "       0, 0, 1, 1, 1, 0, 0, 0, 0, 1, 0, 0, 0, 1, 0, 0, 0, 0, 1, 0, 0, 0, 0,\n",
       "       1, 0, 0, 0, 0, 1, 0, 0, 0, 0, 0, 1, 0, 0, 0, 0, 1, 0, 0, 0, 0, 0, 0,\n",
       "       1, 0, 1, 0, 0, 0, 1, 0, 1, 0, 1, 1, 0, 0, 1, 1, 0, 0, 0, 0, 0, 1, 0,\n",
       "       0, 1, 0, 0, 1, 0, 0, 0, 1, 1, 0, 1, 0, 0, 0, 0, 0, 0, 0, 0, 0, 0, 0,\n",
       "       1, 0, 0, 0, 0, 1, 0, 1, 0, 0, 1, 1, 0, 0, 0, 0, 1, 1, 0, 0, 0, 1, 0,\n",
       "       0, 1, 1, 1, 1, 1, 1, 0, 0, 0, 0, 1, 0, 0, 0, 1, 1, 0, 0, 1, 0, 1, 1,\n",
       "       1, 0, 0, 1, 0, 0, 0, 0, 0, 0, 0, 0, 0, 1, 1, 1, 0, 1, 0, 0, 0, 1, 0,\n",
       "       1, 1, 0, 0, 1, 0, 0, 1, 1, 0, 1, 1, 1, 1, 0, 0, 1, 1, 0, 1, 1, 0, 0,\n",
       "       1, 1, 0, 1, 0, 1, 1, 1, 1, 0, 0, 0, 1, 0, 0, 1, 0, 0, 0, 1, 0, 0, 0,\n",
       "       1, 1, 1, 0, 0, 0, 0, 0, 0, 0, 0, 1, 1, 1, 1, 0, 0, 1, 0, 0, 0, 1, 1,\n",
       "       1, 1, 0, 0, 0, 0, 0, 1, 1, 0, 0, 0, 1, 1, 0, 1, 0, 0, 0, 1, 0, 1, 0,\n",
       "       0, 0, 1, 1, 0, 1, 0, 0, 1, 0, 0, 1, 0, 1, 0, 0, 0, 0, 0, 0, 0, 1, 0,\n",
       "       0, 1, 1, 1, 0, 1, 0, 0, 0, 1, 0, 0, 1, 1, 0, 0, 0, 1, 1, 0, 0, 1, 0,\n",
       "       1, 0, 0, 1, 0, 0, 1, 0, 0, 1, 0, 1, 0, 0, 0, 0, 0, 0, 0, 0, 1, 1, 0,\n",
       "       0, 0, 0, 0, 0, 0, 0, 0, 0, 1, 0, 0, 1, 1, 1, 0, 0, 0, 0, 1, 0, 0, 0,\n",
       "       1, 0, 0, 1, 0, 0, 0, 0, 0, 0, 0, 0, 0, 1, 0, 1, 0, 0, 1, 1, 1, 1, 0,\n",
       "       1, 0, 0, 0, 0, 0, 0, 1, 0, 0, 1, 0, 1, 0, 1, 0, 0, 1, 0, 0, 1, 0, 0,\n",
       "       0, 1, 0, 0, 1, 1, 1, 0, 1, 0, 1, 1, 0, 0, 0, 0, 0, 1, 0, 0, 0, 0, 0,\n",
       "       0, 0, 1, 0, 1, 0, 1, 1, 0, 0, 0, 0, 1, 0, 0, 0, 0, 0, 0, 1, 0, 1, 0,\n",
       "       0, 1, 1, 1, 0, 1, 1, 0, 0, 0, 1, 0, 0, 0, 0, 0, 1, 0, 1, 0, 0, 1, 0,\n",
       "       0, 0, 1, 0, 0, 0, 0, 0, 0, 0, 1, 1, 0, 0, 1, 0, 0, 1, 0, 1, 1, 0, 0,\n",
       "       0, 0, 0, 0, 0, 0, 1, 0, 0, 0, 0, 0, 0, 0, 1, 0, 0, 0, 0, 0, 1, 0, 0,\n",
       "       1, 0, 0, 0, 0, 1, 0, 1, 0, 1, 1, 0, 0, 1, 0, 0, 0, 0, 0, 0, 0, 0, 0,\n",
       "       0, 0, 1, 1, 0, 0, 0, 0, 0, 0, 1, 0, 0, 1, 0, 0, 0, 0, 0, 0, 0, 0, 1,\n",
       "       0, 1, 0, 0, 0, 0, 0, 1, 0, 0, 1, 0, 1, 0, 0, 0, 1, 0, 1, 0, 1, 0, 0,\n",
       "       0, 0, 0, 1, 1, 0, 0, 1, 0, 0, 0, 0, 0, 1, 1, 0, 1, 1, 0, 0, 0, 0, 0,\n",
       "       0, 0, 0, 0, 0, 0, 1, 0, 0, 0, 0, 1, 0, 0, 1, 0, 0, 0, 1, 0, 0, 0, 0,\n",
       "       1, 0, 0, 0, 1, 0, 1, 0, 1, 0, 0, 0, 0, 1, 0, 1, 0, 0, 1, 0, 1, 1, 1,\n",
       "       0, 0, 0, 0, 1, 0, 0, 0, 0, 0, 0, 0, 0, 0, 1, 1, 0, 1, 0, 1, 0, 0, 0,\n",
       "       0, 0, 1, 0, 1, 0, 0, 0, 0, 0, 0, 1, 0, 0, 0, 1, 0, 0, 1, 0, 0, 0, 0,\n",
       "       0, 1, 1, 0, 0, 0, 0, 1, 0, 0, 0, 0, 0, 0, 1, 0, 0, 0, 0, 0, 0, 1, 0,\n",
       "       0, 1, 1, 1, 1, 1, 0, 1, 0, 0, 0, 1, 0, 0, 1, 1, 0, 0, 0, 0, 1, 0, 0,\n",
       "       1, 1, 0, 0, 0, 1, 1, 0, 1, 0, 0, 0, 0, 1, 1, 0, 0], dtype=int64)"
      ]
     },
     "execution_count": 103,
     "metadata": {},
     "output_type": "execute_result"
    }
   ],
   "source": [
    "clf.predict(X)"
   ]
  },
  {
   "cell_type": "code",
   "execution_count": 58,
   "metadata": {},
   "outputs": [
    {
     "data": {
      "text/plain": [
       "3"
      ]
     },
     "execution_count": 58,
     "metadata": {},
     "output_type": "execute_result"
    }
   ],
   "source": [
    "max([1,2,3])"
   ]
  },
  {
   "cell_type": "code",
   "execution_count": 84,
   "metadata": {},
   "outputs": [
    {
     "data": {
      "text/plain": [
       "False"
      ]
     },
     "execution_count": 84,
     "metadata": {},
     "output_type": "execute_result"
    }
   ],
   "source": [
    "''.startswith('a')"
   ]
  },
  {
   "cell_type": "code",
   "execution_count": null,
   "metadata": {},
   "outputs": [],
   "source": []
  }
 ],
 "metadata": {
  "kernelspec": {
   "display_name": "Python 3",
   "language": "python",
   "name": "python3"
  },
  "language_info": {
   "codemirror_mode": {
    "name": "ipython",
    "version": 3
   },
   "file_extension": ".py",
   "mimetype": "text/x-python",
   "name": "python",
   "nbconvert_exporter": "python",
   "pygments_lexer": "ipython3",
   "version": "3.6.3"
  }
 },
 "nbformat": 4,
 "nbformat_minor": 2
}
